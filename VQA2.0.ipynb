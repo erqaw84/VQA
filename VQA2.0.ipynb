{
 "cells": [
  {
   "cell_type": "code",
   "execution_count": 2,
   "metadata": {},
   "outputs": [],
   "source": [
    "import numpy as np\n",
    "from itertools import cycle\n",
    "from math import pi\n",
    "from scipy.optimize import minimize\n",
    "import matplotlib.pyplot as plt\n"
   ]
  },
  {
   "cell_type": "code",
   "execution_count": 3,
   "metadata": {},
   "outputs": [],
   "source": [
    "def swap_ind(state_r,ind): #auxiliary function swaps indices \n",
    "    for i in range (2**(ind-1)):\n",
    "        state_r[[2*i,2*i+1],:]=state_r[[2*i+1,2*i],:]\n",
    "    return state_r\n",
    "\n",
    "def swap_sign(state_r,ind): #auxiliary function swaps signs\n",
    "    for i in range (2**(ind-1)):\n",
    "        state_r[2*i,:]=-state_r[2*i,:]\n",
    "    return state_r\n",
    "\n",
    "def x (state, ind): #X Pauli gate\n",
    "    ind=ind+1\n",
    "    state_c=np.copy(state)\n",
    "    state_r=np.reshape(state_c,(2**ind,2**(n-ind)))\n",
    "    state_r=swap_ind(state_r,ind)\n",
    "    return state_r.flatten()\n",
    "\n",
    "def y (state, ind): #Y Pauli gate\n",
    "    ind=ind+1\n",
    "    state_c=np.copy(state)\n",
    "    state_r=np.reshape(state_c,(2**ind,2**(n-ind)))\n",
    "    state_r=swap_ind(state_r,ind)\n",
    "    state_r=swap_sign(state_r,ind)\n",
    "    return 1j*state_r.flatten()\n",
    "\n",
    "\n",
    "def z (state, ind): #Y Pauli gate\n",
    "    ind=ind+1\n",
    "    state_c=np.copy(state)\n",
    "    state_r=np.reshape(state_c,(2**ind,2**(n-ind)))\n",
    "    state_r=-swap_sign(state_r,ind)\n",
    "    return state_r.flatten()\n",
    "\n",
    "def rx (state, theta, ind):\n",
    "    state_c=np.copy(state)\n",
    "    state_X=x (state_c, ind)\n",
    "    state_Rx=np.cos(theta)*state-1j*np.sin(theta)*state_X\n",
    "    return state_Rx\n",
    "\n",
    "def ry (state, theta, ind):\n",
    "    state_c=np.copy(state)\n",
    "    state_Y=y (state_c, ind)\n",
    "    state_Ry=np.cos(theta)*state-1j*np.sin(theta)*state_Y\n",
    "    return state_Ry\n",
    "\n",
    "def rz (state, theta, ind):\n",
    "    state_c=np.copy(state)\n",
    "    state_Z=z (state_c, ind) \n",
    "    state_Rz=np.cos(theta)*state-1j*np.sin(theta)*state_Z\n",
    "    return state_Rz\n",
    "\n",
    "\n",
    "def ion1 (state, theta, ReE, ImE, Del, ind): #the hamiltonian is shifteed as we ignore the Identity term, Del= \\omega-\\omega_e+\\omega_g, theta \\in [0,T_max] such that |E| is constant \n",
    "    A=np.array([ReE,ImE,Del])\n",
    "    a=np.linalg.norm(A)\n",
    "    \n",
    "    state_c=np.copy(state)\n",
    "    state_X=x (state_c, ind)\n",
    "    state_Y=y (state_c, ind)\n",
    "    state_Z=z (state_c, ind) \n",
    "    state_ion1=np.cos(theta*a)*state_c-1j*np.sin(theta*a)*((ReE*state_X+ImE*state_Y+Del*state_Z)/a)\n",
    "    return state_ion1\n",
    "    \n",
    "\n",
    "\n",
    "def rxx (state, theta, ind1, ind2):\n",
    "    state_c=np.copy(state)\n",
    "    state_X=x (state_c, ind1)\n",
    "    state_X=x (state_X, ind2)\n",
    "    state_Rx=np.cos(theta)*state-1j*np.sin(theta)*state_X\n",
    "    return state_Rx"
   ]
  },
  {
   "cell_type": "code",
   "execution_count": 4,
   "metadata": {},
   "outputs": [],
   "source": [
    "# (rz o rz)(rxx)(rx o rx)\n",
    "def ising_entangler (state,pc,ind1,ind2):\n",
    "    state=rz(state,next(pc),ind1)\n",
    "    state=rz(state,next(pc),ind2)\n",
    "    state=rxx(state,next(pc),ind1,ind2)\n",
    "    state=rx(state,next(pc),ind1)\n",
    "    state=rx(state,next(pc),ind2)\n",
    "    return state\n",
    "\n",
    "    \n",
    "def checkerboard (state,n,p,pc):\n",
    "    for _ in range(p):\n",
    "        for ind_1 in range(n//2):\n",
    "            state=ising_entangler(state,pc,2*ind_1,2*ind_1+1)\n",
    "        for ind_2 in range(n//2-1):\n",
    "            state=ising_entangler(state,pc,2*ind_2+1,2*ind_2+2)\n",
    "        state=ising_entangler(state,pc,0,n-1)\n",
    "    return state\n",
    "\n",
    "def ion_1qubit_ansatz(state,p,pc):\n",
    "    for _ in range(p):\n",
    "        state=ion1 (state, next(pc), next(pc), next(pc), next(pc), 0)\n",
    "    return state"
   ]
  },
  {
   "cell_type": "markdown",
   "metadata": {},
   "source": [
    "## Overlap for a fixed depth"
   ]
  },
  {
   "cell_type": "code",
   "execution_count": 32,
   "metadata": {},
   "outputs": [],
   "source": [
    "n=5\n",
    "max_p=2\n",
    "\n",
    "zeros=np.zeros(2**n) #initial state\n",
    "zeros[0]=1\n",
    "\n",
    "\n",
    "t=np.random.rand(2**n)+1j*np.random.rand(2**n) #target state (random by default)\n",
    "t=t/np.linalg.norm(t)\n",
    "\n",
    "params=np.random.rand(5*n*p)*2*pi\n",
    "\n",
    "\n",
    "def cost (params):\n",
    "    pc=cycle(params)#parmeters iterator\n",
    "    \n",
    "    \n",
    "    psi=checkerboard(zeros,n,p,pc)\n",
    "    \n",
    "    olap=np.absolute(t.dot(psi))**2 # <--------THIS IS THE COST FUNCTION\n",
    "    \n",
    "    return 1-olap\n",
    "\n",
    "res =  minimize(cost,params ,method='L-BFGS-B', jac=None, options={'maxiter': 300}) #THIS IS THE OPTIMIZER\n",
    "\n",
    "\n",
    "psi=checkerboard(zeros,n,p,cycle(res.x)) #this is how you check the optimized state"
   ]
  },
  {
   "cell_type": "markdown",
   "metadata": {},
   "source": [
    "## Overlap for a range of depths"
   ]
  },
  {
   "cell_type": "code",
   "execution_count": 4,
   "metadata": {},
   "outputs": [
    {
     "name": "stdout",
     "output_type": "stream",
     "text": [
      "0.588411848905702\n",
      "0.24270428142865985\n",
      "0.012333676911508329\n",
      "0.00044865790419412743\n"
     ]
    }
   ],
   "source": [
    "n=5\n",
    "max_p=4\n",
    "\n",
    "zeros=np.zeros(2**n) #initial state\n",
    "zeros[0]=1\n",
    "\n",
    "#target state\n",
    "\n",
    "t=np.random.rand(2**n)+1j*np.random.rand(2**n) #target state (random by default)\n",
    "t=t/np.linalg.norm(t)\n",
    "\n",
    "olaps=[]\n",
    "for p in range(max_p):\n",
    "    p=p+1\n",
    "    params=np.random.rand(5*n*p)*2*pi\n",
    "\n",
    "\n",
    "    def cost (params):\n",
    "        pc=cycle(params)#parmeters iterator\n",
    "        psi=checkerboard(zeros,n,p,pc)\n",
    "        olap=np.absolute(t.dot(psi))**2 # <--------THIS IS THE COST FUNCTION\n",
    "        return 1-olap\n",
    "    \n",
    "    res =  minimize(cost,params ,method='L-BFGS-B', jac=None, options={'maxiter': 300})\n",
    "    print(cost(res.x))\n",
    "    olaps.append(cost(res.x))"
   ]
  },
  {
   "cell_type": "code",
   "execution_count": 8,
   "metadata": {},
   "outputs": [
    {
     "name": "stderr",
     "output_type": "stream",
     "text": [
      "No handles with labels found to put in legend.\n"
     ]
    },
    {
     "data": {
      "text/plain": [
       "<matplotlib.legend.Legend at 0x7f6b4cb561c0>"
      ]
     },
     "execution_count": 8,
     "metadata": {},
     "output_type": "execute_result"
    },
    {
     "data": {
      "image/png": "[encoded data removed]",
      "text/plain": [
       "<Figure size 432x288 with 1 Axes>"
      ]
     },
     "metadata": {
      "needs_background": "light"
     },
     "output_type": "display_data"
    }
   ],
   "source": [
    "fig, ax = plt.subplots()\n",
    "x=np.array([1,2,3,4])# Create a figure and an axes.\n",
    "ax.plot(x, olaps, '--',marker='o', linewidth=1, markersize=5)\n",
    "plt.grid(linestyle='dotted')\n",
    "\n",
    "ax.set_xlabel('depth')  # Add an x-label to the axes.\n",
    "ax.set_ylabel('1-overlap')  # Add a y-label to the axes.\n",
    "ax.legend(loc='upper right')  # Ad\n",
    "#fig.savefig('saturability2to10qubits.eps')"
   ]
  },
  {
   "cell_type": "markdown",
   "metadata": {},
   "source": [
    "## Single qubit ansatz lol"
   ]
  },
  {
   "cell_type": "code",
   "execution_count": 103,
   "metadata": {},
   "outputs": [
    {
     "name": "stdout",
     "output_type": "stream",
     "text": [
      "expected value:  0.47135162406986886\n",
      "minimum energy: 0.47135162406673137\n",
      "energy error:  -3.1374902675906924e-12\n"
     ]
    }
   ],
   "source": [
    "n=1\n",
    "p=1\n",
    "\n",
    "zeros=np.zeros(2**n) #initial state\n",
    "zeros[0]=1\n",
    "\n",
    "\n",
    "t=np.random.rand(2**n)+1j*np.random.rand(2**n) #target state (random by default)\n",
    "t=t/np.linalg.norm(t)\n",
    "\n",
    "rand_m=np.random.rand(2**n,2**n)+1j*np.random.rand(2**n,2**n)\n",
    "rand_H=rand_m.conj().T.dot(rand_m) #this generates a random Hermitian matrix\n",
    "\n",
    "\n",
    "eig=np.linalg.eig(rand_H)\n",
    "min_energy=min(eig[0])\n",
    "params=np.random.rand(5*p)*10\n",
    "\n",
    "\n",
    "def maximize_overlap (params): #to minimaze a target state\n",
    "    pc=cycle(params)#parmeters iterator\n",
    "    \n",
    "    \n",
    "    psi=ion_1qubit_ansatz(zeros,p,pc)\n",
    "    \n",
    "    olap=np.absolute(t.dot(psi))**2 # <--------THIS IS THE COST FUNCTION\n",
    "    \n",
    "    return 1-olap\n",
    "\n",
    "def expected_value (params): #to minimaze a target state\n",
    "    pc=cycle(params)#parmeters iterator\n",
    "    \n",
    "    \n",
    "    psi=ion_1qubit_ansatz(zeros,p,pc)\n",
    "    \n",
    "    exp_val=psi.conj().T.dot(rand_H).dot(psi) # <--------THIS IS THE COST FUNCTION\n",
    "    \n",
    "    return exp_val\n",
    "\n",
    "\n",
    "res =  minimize(expected_value,params ,method='L-BFGS-B', jac=None, options={'maxiter': 300}) #THIS IS THE OPTIMIZER\n",
    "\n",
    "psi=ion_1qubit_ansatz(zeros,p,cycle(res.x))\n",
    "exp_val=psi.conj().T.dot(rand_H).dot(psi)\n",
    "\n",
    "#print(\"overlap:\", np.absolute(t.dot(psi))**2 )\n",
    "print('expected value: ', np.real(exp_val))\n",
    "print('minimum energy:', np.real(min_energy))\n",
    "print('energy error: ', np.real(min_energy-exp_val))"
   ]
  },
  {
   "cell_type": "code",
   "execution_count": 78,
   "metadata": {},
   "outputs": [
    {
     "name": "stdout",
     "output_type": "stream",
     "text": [
      "[-0.61032269-0.43594478j  0.49740378+0.43594478j]\n"
     ]
    },
    {
     "data": {
      "text/plain": [
       "(1+0j)"
      ]
     },
     "execution_count": 78,
     "metadata": {},
     "output_type": "execute_result"
    }
   ],
   "source": [
    "n=1\n",
    "t=2\n",
    "ImE=7\n",
    "ReE=5\n",
    "Del=5\n",
    "state=np.array([0,1])#np.array([1,1])/np.sqrt(2)\n",
    "psi=ion1 (state,t, ReE, ImE, Del, 0)\n",
    "print(psi)\n",
    "psi.conj().T.dot(psi)"
   ]
  }
 ],
 "metadata": {
  "kernelspec": {
   "display_name": "Python 3",
   "language": "python",
   "name": "python3"
  },
  "language_info": {
   "codemirror_mode": {
    "name": "ipython",
    "version": 3
   },
   "file_extension": ".py",
   "mimetype": "text/x-python",
   "name": "python",
   "nbconvert_exporter": "python",
   "pygments_lexer": "ipython3",
   "version": "3.8.3"
  }
 },
 "nbformat": 4,
 "nbformat_minor": 4
}
